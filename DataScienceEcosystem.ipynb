{
 "cells": [
  {
   "cell_type": "markdown",
   "id": "36b0fc9b-350c-44fc-8041-50e34c3839cd",
   "metadata": {
    "tags": []
   },
   "source": [
    "# Data Science Tools and Ecosystem"
   ]
  },
  {
   "cell_type": "markdown",
   "id": "2a467f59-d231-4254-9678-52d0e797d667",
   "metadata": {},
   "source": [
    "In this notebook, Data Science Tools and Ecosystem are summarized."
   ]
  },
  {
   "cell_type": "markdown",
   "id": "85f656f8-3c53-45e0-9e2a-f7c00e179c28",
   "metadata": {},
   "source": [
    "**Objective:**\n",
    "\n",
    "- Python\n",
    "- R\n",
    "- Scala\n",
    "- Julia\n"
   ]
  },
  {
   "cell_type": "markdown",
   "id": "143e0194-3231-4dc8-8a50-c6e3b22fbefe",
   "metadata": {},
   "source": [
    "Some of the popular languages that Data Scientists use are:\n",
    "\n",
    "1. Python\n",
    "2. R\n",
    "3. Scala\n",
    "4. Julia"
   ]
  },
  {
   "cell_type": "markdown",
   "id": "69c99a6e-9dba-425e-aed8-ffd3584ae7a0",
   "metadata": {
    "tags": []
   },
   "source": [
    "Some of the commonly used libraries used by Data Scientists include:\n",
    "1. Pandas\n",
    "2. Matplotlib\n",
    "3. Scikit-learn"
   ]
  },
  {
   "cell_type": "markdown",
   "id": "8fd184c8-4b60-4a0b-9c00-3e7d7288ee26",
   "metadata": {},
   "source": [
    "| Data Science Tools | \n",
    "|--------------------|\n",
    "| Jupyer Notebook |\n",
    "| Visual Studio Code |\n",
    "| RStudio |"
   ]
  },
  {
   "cell_type": "markdown",
   "id": "1d1e045c-779c-487d-9475-60a049dbb02c",
   "metadata": {},
   "source": [
    "### Below are a few examples of evaluating arithmetic expresions in Python."
   ]
  },
  {
   "cell_type": "code",
   "execution_count": 6,
   "id": "64f1ba40-fba8-4a05-b749-57714deebf6a",
   "metadata": {
    "tags": []
   },
   "outputs": [
    {
     "data": {
      "text/plain": [
       "17"
      ]
     },
     "execution_count": 6,
     "metadata": {},
     "output_type": "execute_result"
    }
   ],
   "source": [
    "(3*4)+5 #This a simple arithmetic expression to mutiply then add integers"
   ]
  },
  {
   "cell_type": "code",
   "execution_count": 7,
   "id": "fa9bf23f-c6c9-4ef6-ac6e-262bc61e3ad0",
   "metadata": {
    "tags": []
   },
   "outputs": [
    {
     "data": {
      "text/plain": [
       "3.3333333333333335"
      ]
     },
     "execution_count": 7,
     "metadata": {},
     "output_type": "execute_result"
    }
   ],
   "source": [
    "200/60 # This will convert 200 minutes to hours by diving by 60"
   ]
  },
  {
   "cell_type": "markdown",
   "id": "d19b3a31-bdb1-46a9-9914-741f128963da",
   "metadata": {
    "tags": []
   },
   "source": [
    "## Author"
   ]
  },
  {
   "cell_type": "markdown",
   "id": "099fcbe5-5bfc-440a-9e36-740a1815d3a3",
   "metadata": {},
   "source": [
    "Xiaotian Li"
   ]
  },
  {
   "cell_type": "code",
   "execution_count": null,
   "id": "d39f959e-3b47-4fc3-a9cc-33c8cae42d97",
   "metadata": {},
   "outputs": [],
   "source": []
  }
 ],
 "metadata": {
  "kernelspec": {
   "display_name": "Python",
   "language": "python",
   "name": "conda-env-python-py"
  },
  "language_info": {
   "codemirror_mode": {
    "name": "ipython",
    "version": 3
   },
   "file_extension": ".py",
   "mimetype": "text/x-python",
   "name": "python",
   "nbconvert_exporter": "python",
   "pygments_lexer": "ipython3",
   "version": "3.7.12"
  }
 },
 "nbformat": 4,
 "nbformat_minor": 5
}
